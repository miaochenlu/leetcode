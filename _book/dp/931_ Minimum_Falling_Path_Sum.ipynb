{
 "cells": [
  {
   "cell_type": "markdown",
   "metadata": {},
   "source": [
    "## description"
   ]
  },
  {
   "cell_type": "markdown",
   "metadata": {},
   "source": [
    "Given a square array of integers A, we want the minimum sum of a falling path through A.\n",
    "\n",
    "A falling path starts at any element in the first row, and chooses one element from each row.  The next row's choice must be in a column that is different from the previous row's column by at most one.  \n",
    "  \n",
    "   \n",
    "\n",
    "Example 1:  \n",
    "\n",
    "Input: [[1,2,3],[4,5,6],[7,8,9]]  \n",
    "Output: 12  \n",
    "Explanation:   \n",
    "The possible falling paths are:\n",
    "[1,4,7], [1,4,8], [1,5,7], [1,5,8], [1,5,9]  \n",
    "[2,4,7], [2,4,8], [2,5,7], [2,5,8], [2,5,9], [2,6,8], [2,6,9]  \n",
    "[3,5,7], [3,5,8], [3,5,9], [3,6,8], [3,6,9]  \n",
    "The falling path with the smallest sum is [1,4,7], so the answer is 12.\n",
    "\n",
    " \n",
    "\n",
    "Note:  \n",
    "\n",
    "1 <= A.length == A[0].length <= 100  \n",
    "-100 <= A[i][j] <= 100  "
   ]
  },
  {
   "cell_type": "markdown",
   "metadata": {},
   "source": [
    "思路：  \n",
    "<img src=\"dp/img/931.jpeg\">"
   ]
  },
  {
   "cell_type": "markdown",
   "metadata": {},
   "source": [
    "```cpp\n",
    "class Solution {\n",
    "public:\n",
    "    int minFallingPathSum(vector<vector<int>>& A) {\n",
    "        int col = A.size();\n",
    "        for(int i = 1; i < A.size(); i++ )\n",
    "            for(int j = 0; j < A.size(); j++) \n",
    "                A[i][j] = min(A[i - 1][j], min(A[i - 1][min((int)A.size() - 1, j + 1)], A[i - 1][max(0, j - 1)])) + A[i][j];\n",
    "\n",
    "        return *min_element(A[A.size() - 1].begin(), A[A.size() - 1].end());\n",
    "    }\n",
    "};\n",
    "```"
   ]
  },
  {
   "cell_type": "code",
   "execution_count": null,
   "metadata": {},
   "outputs": [],
   "source": []
  }
 ],
 "metadata": {
  "kernelspec": {
   "display_name": "Python 3",
   "language": "python",
   "name": "python3"
  },
  "language_info": {
   "codemirror_mode": {
    "name": "ipython",
    "version": 3
   },
   "file_extension": ".py",
   "mimetype": "text/x-python",
   "name": "python",
   "nbconvert_exporter": "python",
   "pygments_lexer": "ipython3",
   "version": "3.7.0"
  }
 },
 "nbformat": 4,
 "nbformat_minor": 2
}
