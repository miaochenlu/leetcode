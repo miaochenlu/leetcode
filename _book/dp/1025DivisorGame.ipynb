{
 "cells": [
  {
   "cell_type": "markdown",
   "metadata": {},
   "source": [
    "## description"
   ]
  },
  {
   "cell_type": "markdown",
   "metadata": {},
   "source": [
    "Alice and Bob take turns playing a game, with Alice starting first.\n",
    "\n",
    "Initially, there is a number N on the chalkboard.  On each player's turn, that player makes a move consisting of:\n",
    "\n",
    "* Choosing any x with 0 < x < N and N % x == 0.\n",
    "* Replacing the number N on the chalkboard with N - x.\n",
    "Also, if a player cannot make a move, they lose the game.\n",
    "\n",
    "Return True if and only if Alice wins the game, assuming both players play optimally.\n",
    "\n",
    " \n",
    "\n",
    "Example 1:\n",
    "\n",
    "Input: 2\n",
    "Output: true\n",
    "Explanation: Alice chooses 1, and Bob has no more moves.\n",
    "Example 2:\n",
    "\n",
    "Input: 3\n",
    "Output: false\n",
    "Explanation: Alice chooses 1, Bob chooses 1, and Alice has no more moves.\n",
    " \n",
    "\n",
    "Note:\n",
    "\n",
    "1 <= N <= 1000"
   ]
  },
  {
   "cell_type": "markdown",
   "metadata": {},
   "source": [
    "# Solution:"
   ]
  },
  {
   "cell_type": "markdown",
   "metadata": {},
   "source": [
    "Conclusion\n",
    "\n",
    "If N is even, can win.\n",
    "If N is odd, will lose.\n",
    "\n",
    "Recursive Prove （Top-down)\n",
    "\n",
    "    If N is even.\n",
    "    We can choose x = 1.\n",
    "    The opponent will get N - 1, which is a odd.\n",
    "    Reduce to the case odd and he will lose.\n",
    "\n",
    "    If N is odd,\n",
    "    2.1 If N = 1, lose directly.\n",
    "    2.2 We have to choose an odd x.\n",
    "    The opponent will get N - x, which is a even.\n",
    "    Reduce to the case even and he will win.\n",
    "\n",
    "So the N will change odd and even alternatively until N = 1.\n",
    "\n",
    "Mathematical Induction Prove （Bottom-up)\n",
    "\n",
    "N = 1, lose directly\n",
    "N = 2, will win choosing x = 1.\n",
    "N = 3, must lose choosing x = 1.\n",
    "N = 4, will win choosing x = 1.\n",
    "....\n",
    "\n",
    "For N <= n, we have find that:\n",
    "If N is even, can win.\n",
    "If N is odd, will lose.\n",
    "\n",
    "For the case N = n + 1\n",
    "If N is even, we can win choosing x = 1,\n",
    "give the opponent an odd number N - 1 = n,\n",
    "force him to lose,\n",
    "because we have found that all odd N <= n will lose.\n",
    "\n",
    "If N is odd, there is no even x that N % x == 0.\n",
    "As a result, we give the opponent a even number N - x,\n",
    "and the opponent can win,\n",
    "because we have found that all even N <= n can win.\n",
    "\n",
    "Now we prove that, for all N <= n,\n",
    "If N is even, can win.\n",
    "If N is odd, will lose.\n",
    "\n",
    "Java/C++:\n",
    "\n",
    "        return N % 2 == 0;"
   ]
  },
  {
   "cell_type": "code",
   "execution_count": null,
   "metadata": {},
   "outputs": [],
   "source": []
  }
 ],
 "metadata": {
  "kernelspec": {
   "display_name": "Python 3",
   "language": "python",
   "name": "python3"
  },
  "language_info": {
   "codemirror_mode": {
    "name": "ipython",
    "version": 3
   },
   "file_extension": ".py",
   "mimetype": "text/x-python",
   "name": "python",
   "nbconvert_exporter": "python",
   "pygments_lexer": "ipython3",
   "version": "3.7.0"
  }
 },
 "nbformat": 4,
 "nbformat_minor": 2
}
