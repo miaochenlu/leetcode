{
 "cells": [
  {
   "cell_type": "markdown",
   "metadata": {},
   "source": [
    "## description"
   ]
  },
  {
   "cell_type": "markdown",
   "metadata": {},
   "source": [
    "Given a non negative integer number num. For every numbers i in the range 0 ≤ i ≤ num calculate the number of 1's in their binary representation and return them as an array.\n",
    "\n",
    "Example 1:\n",
    "\n",
    "Input: 2\n",
    "Output: [0,1,1]\n",
    "Example 2:\n",
    "\n",
    "Input: 5\n",
    "Output: [0,1,1,2,1,2]\n",
    "Follow up:\n",
    "\n",
    "* It is very easy to come up with a solution with run time O(n*sizeof(integer)). But can you do it in linear time O(n) /possibly in a single pass?\n",
    "* Space complexity should be O(n).\n",
    "* Can you do it like a boss? Do it without using any builtin function like __builtin_popcount in c++ or in any other language."
   ]
  },
  {
   "cell_type": "markdown",
   "metadata": {},
   "source": [
    "# version 1"
   ]
  },
  {
   "cell_type": "markdown",
   "metadata": {},
   "source": [
    "思路：假设一个数i他由k位二进制表示,那么就只需要考虑他的前k-1位有多少1和最后一位是不是1就可以1,即i中1的个数等于前k-1位构成的数字的1的个数，加上第k位1的个数，即1或是0   \n",
    "可以得到$f(k)=f(k/2)+k%2$"
   ]
  },
  {
   "cell_type": "markdown",
   "metadata": {},
   "source": [
    "```cpp\n",
    "class Solution {\n",
    "public:\n",
    "    vector<int> countBits(int num) {\n",
    "        vector<int> res(num + 1);\n",
    "        for(int i = 0; i <= num; i++)\n",
    "            res[i] = res[i >> 1] + (i & 1);\n",
    "        return res;\n",
    "    }\n",
    "};\n",
    "```"
   ]
  },
  {
   "cell_type": "markdown",
   "metadata": {},
   "source": [
    "# version2"
   ]
  },
  {
   "cell_type": "markdown",
   "metadata": {},
   "source": [
    "思路:设这个数为i,只要他不是0，就肯定有1位为1，我们取他最后的那个1，比如：4=100，最后那个1是倒数第三位，6=110，最后那个1是倒数第二位。  \n",
    "然后我们考虑最后那个1之前部分含有多少1,记这部分为s。\n",
    "i&(i-1)=s，因为一个数a加了1后，会使a-1从最后开始的1全部变成0，知道遇到0讲他变成1，这就是上面所说的i的最后一个1"
   ]
  },
  {
   "cell_type": "markdown",
   "metadata": {},
   "source": [
    "```cpp\n",
    "class Solution {\n",
    "public:\n",
    "    vector<int> countBits(int num) {\n",
    "        vector<int> ret(num+1, 0);\n",
    "        for (int i = 1; i <= num; ++i)\n",
    "            ret[i] = ret[i&(i-1)] + 1;\n",
    "        return ret;\n",
    "    }\n",
    "};\n",
    "```"
   ]
  },
  {
   "cell_type": "code",
   "execution_count": null,
   "metadata": {},
   "outputs": [],
   "source": []
  }
 ],
 "metadata": {
  "kernelspec": {
   "display_name": "Python 3",
   "language": "python",
   "name": "python3"
  },
  "language_info": {
   "codemirror_mode": {
    "name": "ipython",
    "version": 3
   },
   "file_extension": ".py",
   "mimetype": "text/x-python",
   "name": "python",
   "nbconvert_exporter": "python",
   "pygments_lexer": "ipython3",
   "version": "3.7.0"
  }
 },
 "nbformat": 4,
 "nbformat_minor": 2
}
